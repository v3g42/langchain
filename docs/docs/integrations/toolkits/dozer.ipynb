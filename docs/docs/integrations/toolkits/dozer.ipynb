{
 "cells": [
  {
   "cell_type": "code",
   "execution_count": 7,
   "id": "2885d557-1a94-4e6d-b8ff-0586a2ced0a6",
   "metadata": {},
   "outputs": [],
   "source": [
    "from langchain_community.utilities import DozerPulseWrapper\n",
    "from langchain_community.agent_toolkits import DozerPulseToolkit\n",
    "from langchain_community.agent_toolkits.dozer.base import create_dozer_agent\n",
    "from langchain_openai import ChatOpenAI"
   ]
  },
  {
   "cell_type": "markdown",
   "id": "f1a3b37a",
   "metadata": {},
   "source": [
    "### Using Pulse APIs\n",
    "\n",
    "- Sign up for an account [here](https://cloud.getdozer.io/)\n",
    "- Create an application and find your ID\n",
    "\n",
    "You can initialize Pulse Client as follows:"
   ]
  },
  {
   "cell_type": "code",
   "execution_count": 2,
   "id": "28150f8f",
   "metadata": {},
   "outputs": [],
   "source": [
    "dozer = DozerPulseWrapper(application_id=1)"
   ]
  },
  {
   "cell_type": "code",
   "execution_count": 3,
   "id": "e7b30e8e",
   "metadata": {},
   "outputs": [],
   "source": [
    "llm = ChatOpenAI(temperature=0, model_name=\"gpt-3.5-turbo-0125\")"
   ]
  },
  {
   "cell_type": "code",
   "execution_count": 8,
   "id": "2b58b8ba",
   "metadata": {},
   "outputs": [],
   "source": [
    "toolkit = DozerPulseToolkit(dozer=dozer, llm=llm)"
   ]
  },
  {
   "cell_type": "code",
   "execution_count": 9,
   "id": "3a70e705",
   "metadata": {},
   "outputs": [],
   "source": [
    "agent = create_dozer_agent(llm=llm, toolkit=toolkit, verbose=True)"
   ]
  },
  {
   "cell_type": "code",
   "execution_count": 10,
   "id": "23c5a9f6",
   "metadata": {},
   "outputs": [
    {
     "name": "stdout",
     "output_type": "stream",
     "text": [
      "\n",
      "\n",
      "\u001b[1m> Entering new Dozer Pulse Executor chain...\u001b[0m\n",
      "\u001b[32;1m\u001b[1;3m\n",
      "Invoking: `dozer_query_endpoint` with `{'params': {'endpoint_name': 'customer_count'}}`\n",
      "\n",
      "\n",
      "\u001b[0m\u001b[33;1m\u001b[1;3m{'rows': [{'customer_count': 5}]}\u001b[0m\u001b[32;1m\u001b[1;3mThe total count of customers is 5. Would you like me to provide you with the customer names?\u001b[0m\n",
      "\n",
      "\u001b[1m> Finished chain.\u001b[0m\n"
     ]
    },
    {
     "data": {
      "text/plain": [
       "{'input': 'Give me some customer names ',\n",
       " 'output': 'The total count of customers is 5. Would you like me to provide you with the customer names?'}"
      ]
     },
     "execution_count": 10,
     "metadata": {},
     "output_type": "execute_result"
    }
   ],
   "source": [
    "agent.invoke({\"input\": \"Give me some customer names \"})"
   ]
  },
  {
   "cell_type": "code",
   "execution_count": 11,
   "id": "c1f583be-f24e-437c-b904-27fef68c5937",
   "metadata": {},
   "outputs": [
    {
     "name": "stdout",
     "output_type": "stream",
     "text": [
      "\n",
      "\n",
      "\u001b[1m> Entering new Dozer Pulse Executor chain...\u001b[0m\n",
      "\u001b[32;1m\u001b[1;3m\n",
      "Invoking: `dozer_query_endpoint` with `{'params': {'endpoint_name': 'customer_count'}}`\n",
      "\n",
      "\n",
      "\u001b[0m\u001b[33;1m\u001b[1;3m{'rows': [{'customer_count': 5}]}\u001b[0m\u001b[32;1m\u001b[1;3mWe have a total of 5 customers.\u001b[0m\n",
      "\n",
      "\u001b[1m> Finished chain.\u001b[0m\n"
     ]
    },
    {
     "data": {
      "text/plain": [
       "{'input': 'How many customers do we have? ',\n",
       " 'output': 'We have a total of 5 customers.'}"
      ]
     },
     "execution_count": 11,
     "metadata": {},
     "output_type": "execute_result"
    }
   ],
   "source": [
    "agent.invoke({\"input\": \"How many customers do we have? \"})"
   ]
  }
 ],
 "metadata": {
  "kernelspec": {
   "display_name": "Python 3 (ipykernel)",
   "language": "python",
   "name": "python3"
  },
  "language_info": {
   "codemirror_mode": {
    "name": "ipython",
    "version": 3
   },
   "file_extension": ".py",
   "mimetype": "text/x-python",
   "name": "python",
   "nbconvert_exporter": "python",
   "pygments_lexer": "ipython3",
   "version": "3.9.7"
  }
 },
 "nbformat": 4,
 "nbformat_minor": 5
}
