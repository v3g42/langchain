{
 "cells": [
  {
   "cell_type": "code",
   "execution_count": 1,
   "id": "2885d557-1a94-4e6d-b8ff-0586a2ced0a6",
   "metadata": {},
   "outputs": [],
   "source": [
    "import os\n",
    "import getpass\n",
    "from langchain_community.utilities import DozerPulseWrapper\n",
    "from langchain_community.agent_toolkits import DozerPulseToolkit\n",
    "from langchain_community.agent_toolkits.dozer.base import create_dozer_agent\n",
    "from langchain_openai import ChatOpenAI\n",
    "\n"
   ]
  },
  {
   "cell_type": "code",
   "execution_count": 2,
   "id": "d2bfc437",
   "metadata": {
    "vscode": {
     "languageId": "javascript"
    }
   },
   "outputs": [],
   "source": [
    "\n",
    "api_key =  'eyJraWQiOiJEU1lGWjk5QWZQUjVSbjBmakd6M2FuTCsyaWdvd3FhWk92SUxZNFcxdHAwPSIsImFsZyI6IlJTMjU2In0.eyJhdF9oYXNoIjoibWozcFNuYVFPR0N2WFRTbE1KOFFiUSIsInN1YiI6ImQ3NTdiZjBmLTMwYzYtNDlmYi1iNjBlLWRjOTc0NjM0NzExOCIsImNvZ25pdG86Z3JvdXBzIjpbImNvbXBhbnlfNyJdLCJlbWFpbF92ZXJpZmllZCI6dHJ1ZSwiY3VzdG9tOmNvbXBhbnlfbmFtZSI6ImNvbXBhbnkgMTIzIiwiaXNzIjoiaHR0cHM6XC9cL2NvZ25pdG8taWRwLmFwLXNvdXRoZWFzdC0xLmFtYXpvbmF3cy5jb21cL2FwLXNvdXRoZWFzdC0xX2pITVZSVXE2diIsInBob25lX251bWJlcl92ZXJpZmllZCI6ZmFsc2UsImNvZ25pdG86dXNlcm5hbWUiOiJnb29nbGVfMTA4ODQzNDAzMDcwNTcyNDQzMzQxIiwiZ2l2ZW5fbmFtZSI6IlRoxrAiLCJjdXN0b206Y29tcGFueV9pZCI6IjciLCJwaWN0dXJlIjoiaHR0cHM6XC9cL2xoMy5nb29nbGV1c2VyY29udGVudC5jb21cL2FcL0FDZzhvY0pnSXVodzM3NU1Vck92cGZvYVF4bWZKLU81UHBZN0xMbjBZdndKRllWQk9nYkg0dz1zOTYtYyIsIm9yaWdpbl9qdGkiOiIwZWQ5MGIzOS02NmZhLTRhOGEtODQ0MC02N2Q1MWZlYzNkYzYiLCJhdWQiOiIzamJtM2YwMTBlMXY5ZGhiOWJsaGw2cTJsMSIsImlkZW50aXRpZXMiOlt7InVzZXJJZCI6IjEwODg0MzQwMzA3MDU3MjQ0MzM0MSIsInByb3ZpZGVyTmFtZSI6Ikdvb2dsZSIsInByb3ZpZGVyVHlwZSI6Ikdvb2dsZSIsImlzc3VlciI6bnVsbCwicHJpbWFyeSI6InRydWUiLCJkYXRlQ3JlYXRlZCI6IjE3MTIyODU3MTA0MDIifV0sInRva2VuX3VzZSI6ImlkIiwiYXV0aF90aW1lIjoxNzEyMjg3Mzk2LCJuYW1lIjoiVGjGsCBExrDGoW5nIiwiZXhwIjoxNzEyNTY1MjkxLCJpYXQiOjE3MTI1NjE2OTEsImZhbWlseV9uYW1lIjoiRMawxqFuZyIsImp0aSI6IjMzMWM2MzlmLTI0ZDYtNDM1Ny1hODcwLWZlZjg3Yzk0MzQ1ZSIsImVtYWlsIjoidGh1QGdldGRvemVyLmlvIn0.pPiQ1TqgKfop_AxhtgS9vuMhsxITHUNI9OsXU4aNeYgpYdjAiiludajGQW0FsWPDJGxanthjITvWuD5YI9hCQK_gVyvziPG_gscBus9gE-EsjYhldj3TM0tajgRuak2lHRCyDVwrKVawUSf7HaOE3IOP3K17Xf_fG1S0FV_-ut0rv9A-p6Mm0wcDs6vmsbPuGt_Ll3gwc8hOfHLIG05eNnrEJk6ErLL4uyhk-5fukiSGA3CjcJMgl8go4aS3t8CbK0YWU4l5bBcTk5wFeOWXVHdSWyJLCV7Kh7o4ObeDyv1BBLkCSEkEn_-bgnfTum7xjW87L1hexQQ8e3nOMnUJ_g'\n",
    "application_id = 3\n",
    "os.environ[\"LANGCHAIN_TRACING_V2\"] = 'true'\n",
    "os.environ[\"LANGCHAIN_API_KEY\"] = 'ls__505feabcc15f438d8cc4d1be888912d9'"
   ]
  },
  {
   "cell_type": "markdown",
   "id": "f1a3b37a",
   "metadata": {},
   "source": [
    "### Using Pulse APIs\n",
    "\n",
    "- Sign up for an account [here](https://cloud.getdozer.io/)\n",
    "- Create an application and find your ID\n",
    "\n",
    "You can initialize Pulse Client as follows:"
   ]
  },
  {
   "cell_type": "code",
   "execution_count": 3,
   "id": "28150f8f",
   "metadata": {},
   "outputs": [],
   "source": [
    "\n",
    "dozer = DozerPulseWrapper(api_key=api_key, application_id=application_id)"
   ]
  },
  {
   "cell_type": "code",
   "execution_count": 4,
   "id": "e7b30e8e",
   "metadata": {},
   "outputs": [],
   "source": [
    "llm = ChatOpenAI(temperature=0, model_name=\"gpt-3.5-turbo-0125\")"
   ]
  },
  {
   "cell_type": "code",
   "execution_count": 5,
   "id": "2b58b8ba",
   "metadata": {},
   "outputs": [],
   "source": [
    "toolkit = DozerPulseToolkit(dozer=dozer, llm=llm)"
   ]
  },
  {
   "cell_type": "code",
   "execution_count": 6,
   "id": "3a70e705",
   "metadata": {},
   "outputs": [],
   "source": [
    "agent = create_dozer_agent(llm=llm, toolkit=toolkit, verbose=True)"
   ]
  },
  {
   "cell_type": "code",
   "execution_count": 7,
   "id": "23c5a9f6",
   "metadata": {},
   "outputs": [
    {
     "name": "stdout",
     "output_type": "stream",
     "text": [
      "\n",
      "\n",
      "\u001b[1m> Entering new Dozer Pulse Executor chain...\u001b[0m\n",
      "\u001b[32;1m\u001b[1;3m\n",
      "Invoking: `dozer_query_endpoint` with `{'params': {'endpoint_name': 'monthly_transaction_count'}}`\n",
      "\n",
      "\n",
      "\u001b[0m\u001b[33;1m\u001b[1;3m{'offset': 10, 'page_size': 100, 'rows': [], 'total': 2}\u001b[0m\u001b[32;1m\u001b[1;3m\n",
      "Invoking: `dozer_generate_query` with `{'input': 'SELECT * FROM transactions ORDER BY transaction_date DESC LIMIT 5'}`\n",
      "responded: The query for the top 5 transactions is not available in the predefined endpoints. I will generate a custom query to retrieve this information. Let me generate the SQL query for the top 5 transactions.\n",
      "\n",
      "\u001b[0m\u001b[36;1m\u001b[1;3mSELECT * FROM transactions ORDER BY transaction_date DESC LIMIT 5\u001b[0m\u001b[32;1m\u001b[1;3m\n",
      "Invoking: `dozer_raw_query` with `{'query': 'SELECT * FROM transactions ORDER BY transaction_date DESC LIMIT 5'}`\n",
      "\n",
      "\n",
      "\u001b[0m\u001b[38;5;200m\u001b[1;3m{'rows': [{'amount': 9726.1, 'currency': 'USD', 'customer_id': 33303, 'description': 'Ahead suffer window business.', 'status': 'Completed', 'transaction_date': '2024-02-03', 'transaction_id': 1731177, 'type': 'Withdrawal'}, {'amount': 909.41, 'currency': 'USD', 'customer_id': 90171, 'description': 'Others race prove response lay newspaper bill.', 'status': 'Cancelled', 'transaction_date': '2024-02-03', 'transaction_id': 1731155, 'type': 'Withdrawal'}, {'amount': 5540.75, 'currency': 'USD', 'customer_id': 1659, 'description': 'Common structure with next.', 'status': 'Cancelled', 'transaction_date': '2024-02-03', 'transaction_id': 1731149, 'type': 'Deposit'}, {'amount': 4857.01, 'currency': 'USD', 'customer_id': 85191, 'description': 'Staff add including action others listen data.', 'status': 'Completed', 'transaction_date': '2024-02-03', 'transaction_id': 1731143, 'type': 'Transfer'}, {'amount': 7261.72, 'currency': 'USD', 'customer_id': 87846, 'description': 'Job probably word smile same.', 'status': 'Completed', 'transaction_date': '2024-02-03', 'transaction_id': 1731089, 'type': 'Transfer'}]}\u001b[0m\u001b[32;1m\u001b[1;3mThe top 5 transactions are as follows:\n",
      "\n",
      "1. Transaction ID: 1731177\n",
      "   - Amount: $9726.1\n",
      "   - Currency: USD\n",
      "   - Customer ID: 33303\n",
      "   - Description: Ahead suffer window business.\n",
      "   - Status: Completed\n",
      "   - Transaction Date: 2024-02-03\n",
      "   - Type: Withdrawal\n",
      "\n",
      "2. Transaction ID: 1731155\n",
      "   - Amount: $909.41\n",
      "   - Currency: USD\n",
      "   - Customer ID: 90171\n",
      "   - Description: Others race prove response lay newspaper bill.\n",
      "   - Status: Cancelled\n",
      "   - Transaction Date: 2024-02-03\n",
      "   - Type: Withdrawal\n",
      "\n",
      "3. Transaction ID: 1731149\n",
      "   - Amount: $5540.75\n",
      "   - Currency: USD\n",
      "   - Customer ID: 1659\n",
      "   - Description: Common structure with next.\n",
      "   - Status: Cancelled\n",
      "   - Transaction Date: 2024-02-03\n",
      "   - Type: Deposit\n",
      "\n",
      "4. Transaction ID: 1731143\n",
      "   - Amount: $4857.01\n",
      "   - Currency: USD\n",
      "   - Customer ID: 85191\n",
      "   - Description: Staff add including action others listen data.\n",
      "   - Status: Completed\n",
      "   - Transaction Date: 2024-02-03\n",
      "   - Type: Transfer\n",
      "\n",
      "5. Transaction ID: 1731089\n",
      "   - Amount: $7261.72\n",
      "   - Currency: USD\n",
      "   - Customer ID: 87846\n",
      "   - Description: Job probably word smile same.\n",
      "   - Status: Completed\n",
      "   - Transaction Date: 2024-02-03\n",
      "   - Type: Transfer\n",
      "\n",
      "These are the details of the top 5 transactions based on the transaction date in descending order.\u001b[0m\n",
      "\n",
      "\u001b[1m> Finished chain.\u001b[0m\n"
     ]
    },
    {
     "data": {
      "text/plain": [
       "{'input': 'Top 5 transactions',\n",
       " 'output': 'The top 5 transactions are as follows:\\n\\n1. Transaction ID: 1731177\\n   - Amount: $9726.1\\n   - Currency: USD\\n   - Customer ID: 33303\\n   - Description: Ahead suffer window business.\\n   - Status: Completed\\n   - Transaction Date: 2024-02-03\\n   - Type: Withdrawal\\n\\n2. Transaction ID: 1731155\\n   - Amount: $909.41\\n   - Currency: USD\\n   - Customer ID: 90171\\n   - Description: Others race prove response lay newspaper bill.\\n   - Status: Cancelled\\n   - Transaction Date: 2024-02-03\\n   - Type: Withdrawal\\n\\n3. Transaction ID: 1731149\\n   - Amount: $5540.75\\n   - Currency: USD\\n   - Customer ID: 1659\\n   - Description: Common structure with next.\\n   - Status: Cancelled\\n   - Transaction Date: 2024-02-03\\n   - Type: Deposit\\n\\n4. Transaction ID: 1731143\\n   - Amount: $4857.01\\n   - Currency: USD\\n   - Customer ID: 85191\\n   - Description: Staff add including action others listen data.\\n   - Status: Completed\\n   - Transaction Date: 2024-02-03\\n   - Type: Transfer\\n\\n5. Transaction ID: 1731089\\n   - Amount: $7261.72\\n   - Currency: USD\\n   - Customer ID: 87846\\n   - Description: Job probably word smile same.\\n   - Status: Completed\\n   - Transaction Date: 2024-02-03\\n   - Type: Transfer\\n\\nThese are the details of the top 5 transactions based on the transaction date in descending order.'}"
      ]
     },
     "execution_count": 7,
     "metadata": {},
     "output_type": "execute_result"
    }
   ],
   "source": [
    "agent.invoke({\"input\": \"Top 5 transactions\"})"
   ]
  },
  {
   "cell_type": "code",
   "execution_count": 8,
   "id": "c1f583be-f24e-437c-b904-27fef68c5937",
   "metadata": {},
   "outputs": [
    {
     "name": "stdout",
     "output_type": "stream",
     "text": [
      "\n",
      "\n",
      "\u001b[1m> Entering new Dozer Pulse Executor chain...\u001b[0m\n",
      "\u001b[32;1m\u001b[1;3m\n",
      "Invoking: `dozer_query_endpoint` with `{'params': {'endpoint_name': 'customers_number_by_city'}}`\n",
      "\n",
      "\n",
      "\u001b[0m\u001b[33;1m\u001b[1;3m{'offset': 10, 'page_size': 100, 'rows': [{'city': 'Tombury', 'customer_count': 2}, {'city': 'Simsbury', 'customer_count': 2}, {'city': 'Patelton', 'customer_count': 2}, {'city': 'Beanview', 'customer_count': 6}, {'city': 'Joyville', 'customer_count': 6}, {'city': 'Haleview', 'customer_count': 2}, {'city': 'Lambury', 'customer_count': 2}, {'city': 'Wadeland', 'customer_count': 2}, {'city': 'Jayport', 'customer_count': 2}, {'city': 'Jeanport', 'customer_count': 2}, {'city': 'Jodyton', 'customer_count': 2}, {'city': 'Coryland', 'customer_count': 2}, {'city': 'Rossberg', 'customer_count': 4}, {'city': 'New Chad', 'customer_count': 14}, {'city': 'Hartfort', 'customer_count': 10}, {'city': 'Lanetown', 'customer_count': 4}, {'city': 'Beanside', 'customer_count': 4}, {'city': 'Kemptown', 'customer_count': 2}, {'city': 'Joeview', 'customer_count': 4}, {'city': 'Wubury', 'customer_count': 2}, {'city': 'Robynton', 'customer_count': 2}, {'city': 'Jakeside', 'customer_count': 4}, {'city': 'Ryanton', 'customer_count': 26}, {'city': 'Woodstad', 'customer_count': 4}, {'city': 'Transide', 'customer_count': 2}, {'city': 'Haleton', 'customer_count': 2}, {'city': 'Leview', 'customer_count': 6}, {'city': 'New Luke', 'customer_count': 10}, {'city': 'Tinaland', 'customer_count': 6}, {'city': 'Tinaview', 'customer_count': 8}, {'city': 'Meganton', 'customer_count': 10}, {'city': 'Leeview', 'customer_count': 12}, {'city': 'Holtberg', 'customer_count': 4}, {'city': 'Donnaton', 'customer_count': 2}, {'city': 'Bellberg', 'customer_count': 12}, {'city': 'Diazstad', 'customer_count': 6}, {'city': 'New Jeff', 'customer_count': 2}, {'city': 'Anneview', 'customer_count': 4}, {'city': 'Ivantown', 'customer_count': 2}, {'city': 'Chenberg', 'customer_count': 8}, {'city': 'Leport', 'customer_count': 4}, {'city': 'Raymouth', 'customer_count': 8}, {'city': 'Coxmouth', 'customer_count': 6}, {'city': 'Dyerton', 'customer_count': 2}, {'city': 'Tranport', 'customer_count': 2}, {'city': 'Munozton', 'customer_count': 2}, {'city': 'Adambury', 'customer_count': 4}, {'city': 'Jotown', 'customer_count': 2}, {'city': 'Jodybury', 'customer_count': 4}, {'city': 'Cookstad', 'customer_count': 14}, {'city': 'Shawbury', 'customer_count': 4}, {'city': 'Johntown', 'customer_count': 36}, {'city': 'Annaport', 'customer_count': 8}, {'city': 'Riceview', 'customer_count': 2}, {'city': 'Leonfort', 'customer_count': 2}, {'city': 'Kenttown', 'customer_count': 2}, {'city': 'Foxmouth', 'customer_count': 6}, {'city': 'Yufort', 'customer_count': 2}, {'city': 'Claybury', 'customer_count': 2}, {'city': 'Jodiberg', 'customer_count': 2}, {'city': 'Greggton', 'customer_count': 2}, {'city': 'Lamport', 'customer_count': 2}, {'city': 'Barrfurt', 'customer_count': 2}, {'city': 'Anneberg', 'customer_count': 2}, {'city': 'Loriland', 'customer_count': 12}, {'city': 'Daleside', 'customer_count': 4}, {'city': 'Lyonston', 'customer_count': 2}, {'city': 'Coryton', 'customer_count': 2}, {'city': 'Wuville', 'customer_count': 2}, {'city': 'Lukebury', 'customer_count': 4}, {'city': 'Shahbury', 'customer_count': 2}, {'city': 'Paulside', 'customer_count': 12}, {'city': 'Erinstad', 'customer_count': 6}, {'city': 'Barrstad', 'customer_count': 2}, {'city': 'Foxbury', 'customer_count': 6}, {'city': 'Evanfort', 'customer_count': 2}, {'city': 'Ericland', 'customer_count': 6}, {'city': 'Saratown', 'customer_count': 10}, {'city': 'Rothberg', 'customer_count': 2}, {'city': 'Timside', 'customer_count': 2}, {'city': 'New Luis', 'customer_count': 8}, {'city': 'Halestad', 'customer_count': 4}, {'city': 'Bradstad', 'customer_count': 4}, {'city': 'New Toni', 'customer_count': 4}, {'city': 'Colebury', 'customer_count': 2}, {'city': 'Hartview', 'customer_count': 6}, {'city': 'Reedfort', 'customer_count': 6}, {'city': 'Owenfurt', 'customer_count': 2}, {'city': 'Erinton', 'customer_count': 14}, {'city': 'Rayhaven', 'customer_count': 6}, {'city': 'Kimview', 'customer_count': 10}, {'city': 'Lake Amy', 'customer_count': 40}, {'city': 'Deanfurt', 'customer_count': 4}, {'city': 'Riceton', 'customer_count': 10}, {'city': 'Hufffurt', 'customer_count': 4}, {'city': 'Linbury', 'customer_count': 2}, {'city': 'Wardberg', 'customer_count': 4}, {'city': 'Lynchton', 'customer_count': 2}, {'city': 'Frymouth', 'customer_count': 4}, {'city': 'Leeshire', 'customer_count': 16}], 'total': 38116}\u001b[0m\u001b[32;1m\u001b[1;3mWe have a total of 38,116 customers.\u001b[0m\n",
      "\n",
      "\u001b[1m> Finished chain.\u001b[0m\n"
     ]
    },
    {
     "data": {
      "text/plain": [
       "{'input': 'How many customers do we have? ',\n",
       " 'output': 'We have a total of 38,116 customers.'}"
      ]
     },
     "execution_count": 8,
     "metadata": {},
     "output_type": "execute_result"
    }
   ],
   "source": [
    "agent.invoke({\"input\": \"How many customers do we have? \"})"
   ]
  }
 ],
 "metadata": {
  "kernelspec": {
   "display_name": "Python 3 (ipykernel)",
   "language": "python",
   "name": "python3"
  },
  "language_info": {
   "codemirror_mode": {
    "name": "ipython",
    "version": 3
   },
   "file_extension": ".py",
   "mimetype": "text/x-python",
   "name": "python",
   "nbconvert_exporter": "python",
   "pygments_lexer": "ipython3",
   "version": "3.11.9"
  }
 },
 "nbformat": 4,
 "nbformat_minor": 5
}
